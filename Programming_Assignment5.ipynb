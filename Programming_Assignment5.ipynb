{
 "cells": [
  {
   "cell_type": "code",
   "execution_count": 6,
   "metadata": {},
   "outputs": [
    {
     "name": "stdout",
     "output_type": "stream",
     "text": [
      "Enter first number, a = 15\n",
      "Enter first number, b = 20\n",
      "LCM of 15 and 20 is 60\n"
     ]
    }
   ],
   "source": [
    "# 1. Write a python program to find LCM.\n",
    "a = int(input(\"Enter first number, a = \"))\n",
    "b = int(input(\"Enter first number, b = \"))\n",
    "for i in range(1,(a*b)+1):\n",
    "    if i % a == 0 and i % b == 0:\n",
    "        print(\"LCM of {} and {} is {}\".format(a,b,i))\n",
    "        break"
   ]
  },
  {
   "cell_type": "code",
   "execution_count": 14,
   "metadata": {},
   "outputs": [
    {
     "name": "stdout",
     "output_type": "stream",
     "text": [
      "Enter first number, a = 24\n",
      "Enter first number, b = 12\n",
      "HCF of 24 and 12 is 12\n"
     ]
    }
   ],
   "source": [
    "# 2. Write a python program to find HCF.\n",
    "a = int(input(\"Enter first number, a = \"))\n",
    "b = int(input(\"Enter first number, b = \"))\n",
    "hcf = 1\n",
    "for i in range(1,min(a,b)+1):\n",
    "    if a % i == 0 and b % i == 0:\n",
    "        hcf = i\n",
    "print(\"HCF of {} and {} is {}\".format(a,b,hcf))    "
   ]
  },
  {
   "cell_type": "code",
   "execution_count": 35,
   "metadata": {},
   "outputs": [
    {
     "name": "stdout",
     "output_type": "stream",
     "text": [
      "Enter first number, a = 15\n",
      "1111"
     ]
    }
   ],
   "source": [
    "# 3. Write a python program to convert decimal to binary, Octal and Hexadecimal.\n",
    "# 3.1 Decimal to Binary\n",
    "a = int(input(\"Enter first number, a = \"))\n",
    "i = 0\n",
    "s = []\n",
    "while a/2 > 0:\n",
    "    s.append(a % 2)\n",
    "    a = int(a/2)\n",
    "    i = i+1\n",
    "for i in range(len(s)):\n",
    "    print(s[len(s)-i-1], end='')"
   ]
  },
  {
   "cell_type": "code",
   "execution_count": 38,
   "metadata": {},
   "outputs": [
    {
     "name": "stdout",
     "output_type": "stream",
     "text": [
      "Enter first number, a = 6\n",
      "6"
     ]
    }
   ],
   "source": [
    "# 3.2 Decimal to Octal\n",
    "a = int(input(\"Enter first number, a = \"))\n",
    "i = 0\n",
    "s = []\n",
    "while a/8 > 0:\n",
    "    s.append(a % 8)\n",
    "    a = int(a/8)\n",
    "    i = i+1\n",
    "for i in range(len(s)):\n",
    "    print(s[len(s)-i-1], end='')"
   ]
  },
  {
   "cell_type": "code",
   "execution_count": 39,
   "metadata": {},
   "outputs": [
    {
     "name": "stdout",
     "output_type": "stream",
     "text": [
      "Enter first number, a = 350\n",
      "1514"
     ]
    }
   ],
   "source": [
    "# 3.3 Decimal to Hexadecimal\n",
    "a = int(input(\"Enter first number, a = \"))\n",
    "i = 0\n",
    "s = []\n",
    "while a/16 > 0:\n",
    "    s.append(a % 16)\n",
    "    a = int(a/16)\n",
    "    i = i+1\n",
    "for i in range(len(s)):\n",
    "    print(s[len(s)-i-1], end='')"
   ]
  },
  {
   "cell_type": "code",
   "execution_count": 4,
   "metadata": {},
   "outputs": [
    {
     "name": "stdout",
     "output_type": "stream",
     "text": [
      "Enter a character to find ASCII value: @\n",
      "64\n"
     ]
    }
   ],
   "source": [
    "# 4. Write a program to find ASCII value of a charecter\n",
    "a = input(\"Enter a character to find ASCII value: \")\n",
    "print(ord(a))"
   ]
  },
  {
   "cell_type": "code",
   "execution_count": 45,
   "metadata": {},
   "outputs": [
    {
     "name": "stdout",
     "output_type": "stream",
     "text": [
      "Enter first number, a = 1\n",
      "Enter second number, b =2\n",
      "Enter mathematical operator \n",
      " '/' for Division \n",
      " '*' for Multiplication \n",
      " '+' for Addition \n",
      " '-' for subraction \n",
      "+\n",
      "1 + 2 = 3\n"
     ]
    }
   ],
   "source": [
    "# Write a program to make a simple Calculator with 4 basic Mathematical operations\n",
    "a = int(input(\"Enter first number, a = \"))\n",
    "b = int(input(\"Enter second number, b =\"))\n",
    "o = input(\"Enter mathematical operator \\r '/' for Division \\r '*' for Multiplication \\r '+' for Addition \\r '-' for subraction \\r\")\n",
    "\n",
    "if o == '/':\n",
    "    print(\"{} / {} = {}\".format(a,b,a/b))\n",
    "elif o == '*':\n",
    "    print(\"{} * {} = {}\".format(a,b,a*b))\n",
    "elif o == '+':\n",
    "    print(\"{} + {} = {}\".format(a,b,a+b))\n",
    "elif o == '-':\n",
    "    print(\"{} - {} = {}\".format(a,b,a-b))"
   ]
  }
 ],
 "metadata": {
  "kernelspec": {
   "display_name": "Python 3",
   "language": "python",
   "name": "python3"
  },
  "language_info": {
   "codemirror_mode": {
    "name": "ipython",
    "version": 3
   },
   "file_extension": ".py",
   "mimetype": "text/x-python",
   "name": "python",
   "nbconvert_exporter": "python",
   "pygments_lexer": "ipython3",
   "version": "3.8.5"
  }
 },
 "nbformat": 4,
 "nbformat_minor": 4
}
