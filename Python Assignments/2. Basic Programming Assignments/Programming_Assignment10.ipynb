{
 "cells": [
  {
   "cell_type": "code",
   "execution_count": 17,
   "metadata": {},
   "outputs": [
    {
     "name": "stdout",
     "output_type": "stream",
     "text": [
      "Sum of numbers in list is 51\n"
     ]
    }
   ],
   "source": [
    "# 1. Write a program to write sum of elements in a list.\n",
    "\n",
    "a = [1,2,3,'charan',5,'pavan',6,7,8,9,10]\n",
    "s = 0\n",
    "for i in range(0,len(a)):\n",
    "    if(type(a[i])== int):\n",
    "        s = s + a[i]\n",
    "    else:\n",
    "        pass\n",
    "print(\"Sum of numbers in list is {}\".format(s))"
   ]
  },
  {
   "cell_type": "code",
   "execution_count": 19,
   "metadata": {},
   "outputs": [
    {
     "name": "stdout",
     "output_type": "stream",
     "text": [
      "Product of numbers in list is 907200\n"
     ]
    }
   ],
   "source": [
    "# 2. write a program to multiply all numbers in list\n",
    "a = [1,2,3,'charan',5,'pavan',6,7,8,9,10]\n",
    "m = 1\n",
    "for i in range(0,len(a)):\n",
    "    if(type(a[i])== int):\n",
    "        m = m * a[i]\n",
    "    else:\n",
    "        pass\n",
    "print(\"Product of numbers in list is {}\".format(m))"
   ]
  },
  {
   "cell_type": "code",
   "execution_count": 35,
   "metadata": {},
   "outputs": [
    {
     "name": "stdout",
     "output_type": "stream",
     "text": [
      "Smallest number in list is 5\n"
     ]
    }
   ],
   "source": [
    "# 3. Write a program to find the smallest number in a list\n",
    "a = ['c',9,'charan',5,'pavan',6,7,8,10]\n",
    "for i in range(0,len(a)):\n",
    "    if(type(a[i]) == int):\n",
    "        small = a[i]\n",
    "        break\n",
    "for i in range(0,len(a)):\n",
    "    if(type(a[i]) == int):\n",
    "        if(small > a[i]):\n",
    "            small = a[i]\n",
    "        else:\n",
    "            pass\n",
    "print(\"Smallest number in list is {}\".format(small))"
   ]
  },
  {
   "cell_type": "code",
   "execution_count": 38,
   "metadata": {},
   "outputs": [
    {
     "name": "stdout",
     "output_type": "stream",
     "text": [
      "Largest number in list is 10\n"
     ]
    }
   ],
   "source": [
    "# 4. Write a program to find largest number in a list\n",
    "a = ['c',9,'charan',5,'pavan',6,7,8,10]\n",
    "for i in range(0,len(a)):\n",
    "    if(type(a[i]) == int):\n",
    "        large = a[i]\n",
    "        break\n",
    "for i in range(0,len(a)):\n",
    "    if(type(a[i]) == int):\n",
    "        if(large < a[i]):\n",
    "            large = a[i]\n",
    "        else:\n",
    "            pass\n",
    "print(\"Largest number in list is {}\".format(large))"
   ]
  },
  {
   "cell_type": "code",
   "execution_count": 6,
   "metadata": {},
   "outputs": [
    {
     "name": "stdout",
     "output_type": "stream",
     "text": [
      "9\n"
     ]
    }
   ],
   "source": [
    "# 5. Write a program to find second largest number in a list\n",
    "a = [5,7,3,1,9,8,4,2,6,10]\n",
    "a.sort()\n",
    "print(a[len(a)-2])"
   ]
  },
  {
   "cell_type": "code",
   "execution_count": 13,
   "metadata": {},
   "outputs": [
    {
     "name": "stdout",
     "output_type": "stream",
     "text": [
      "Enter the number of largest numbers required N: 8\n",
      "10\n",
      "9\n",
      "8\n",
      "7\n",
      "6\n",
      "5\n",
      "4\n",
      "3\n"
     ]
    }
   ],
   "source": [
    "# 6. Write a program to find N largest elements from a list\n",
    "a = [5,7,3,1,9,8,4,2,6,10]\n",
    "a.sort()\n",
    "N = int(input(\"Enter the number of largest numbers required N: \"))\n",
    "for i in range(0,N):\n",
    "    print(a[len(a)-i-1])"
   ]
  },
  {
   "cell_type": "code",
   "execution_count": 16,
   "metadata": {},
   "outputs": [
    {
     "name": "stdout",
     "output_type": "stream",
     "text": [
      "8\n",
      "4\n",
      "2\n",
      "6\n",
      "10\n"
     ]
    }
   ],
   "source": [
    "# 7. Write a program to print even numbers in a list\n",
    "a = [5,7,3,1,9,8,4,2,6,10]\n",
    "for i in range(0,len(a)):\n",
    "    if a[i] % 2 == 0:\n",
    "        print(a[i])"
   ]
  },
  {
   "cell_type": "code",
   "execution_count": 17,
   "metadata": {},
   "outputs": [
    {
     "name": "stdout",
     "output_type": "stream",
     "text": [
      "5\n",
      "7\n",
      "3\n",
      "1\n",
      "9\n"
     ]
    }
   ],
   "source": [
    "# 8. Write a program to print odd numbers in a list\n",
    "a = [5,7,3,1,9,8,4,2,6,10]\n",
    "for i in range(0,len(a)):\n",
    "    if a[i] % 2 != 0:\n",
    "        print(a[i])"
   ]
  },
  {
   "cell_type": "code",
   "execution_count": 21,
   "metadata": {},
   "outputs": [
    {
     "name": "stdout",
     "output_type": "stream",
     "text": [
      "['abc', 1, True, ['zyx', False], 1.24]\n"
     ]
    }
   ],
   "source": [
    "# 9. Write a program to remove empty list from list\n",
    "l = [\"abc\", 1, True, [\"zyx\", False], [], 1.24]\n",
    "\n",
    "for i in range(0,len(l)):\n",
    "    if type(l[i]) == list and len(l[i])==0:\n",
    "        l.remove(l[i])\n",
    "        break\n",
    "    else:\n",
    "        pass\n",
    "print(l)"
   ]
  },
  {
   "cell_type": "code",
   "execution_count": 22,
   "metadata": {},
   "outputs": [
    {
     "name": "stdout",
     "output_type": "stream",
     "text": [
      "[57, False, 'box', [True, 'honey']]\n"
     ]
    }
   ],
   "source": [
    "# 10. Write a program to cloning or copying a list\n",
    "l = [57, False, \"box\", [True, \"honey\"]]\n",
    "a = []\n",
    "for i in range(0,len(l)):\n",
    "    a.append(l[i])\n",
    "print(a)"
   ]
  },
  {
   "cell_type": "code",
   "execution_count": 23,
   "metadata": {},
   "outputs": [
    {
     "data": {
      "text/plain": [
       "2"
      ]
     },
     "execution_count": 23,
     "metadata": {},
     "output_type": "execute_result"
    }
   ],
   "source": [
    "# 11. Write a program to count occerences of an element in a list\n",
    "l = [\"abc\", 1, 5, 8, 7, 1, 5, 9, []]\n",
    "l.count(1)"
   ]
  }
 ],
 "metadata": {
  "kernelspec": {
   "display_name": "Python 3",
   "language": "python",
   "name": "python3"
  },
  "language_info": {
   "codemirror_mode": {
    "name": "ipython",
    "version": 3
   },
   "file_extension": ".py",
   "mimetype": "text/x-python",
   "name": "python",
   "nbconvert_exporter": "python",
   "pygments_lexer": "ipython3",
   "version": "3.8.5"
  }
 },
 "nbformat": 4,
 "nbformat_minor": 4
}
