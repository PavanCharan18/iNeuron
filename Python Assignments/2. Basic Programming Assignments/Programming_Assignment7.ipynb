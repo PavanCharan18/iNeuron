{
 "cells": [
  {
   "cell_type": "code",
   "execution_count": 9,
   "metadata": {},
   "outputs": [
    {
     "name": "stdout",
     "output_type": "stream",
     "text": [
      "Please enter an array of numbers saperater by comma:2,5,7\n",
      "Sum of numbers in the array is  14\n"
     ]
    }
   ],
   "source": [
    "# 1. Write a python program to find sum of array.\n",
    "\n",
    "def sum_fun(b):\n",
    "    s = 0\n",
    "    for i in b:\n",
    "        s = s + int(i)\n",
    "    return s\n",
    "try:\n",
    "    a = input(\"Please enter an array of numbers saperated by comma:\")\n",
    "    b = str.split(a,',')\n",
    "    print(\"Sum of numbers in the array is \",sum_fun(b))\n",
    "            \n",
    "except Exception as e:\n",
    "    print(e)"
   ]
  },
  {
   "cell_type": "code",
   "execution_count": 8,
   "metadata": {},
   "outputs": [
    {
     "name": "stdout",
     "output_type": "stream",
     "text": [
      "Please enter an array of numbers saperater by comma:3654,28,121,5647,216534,327,1214,5412,154564635,415212,24\n",
      "The largest number of array is  154564635\n"
     ]
    }
   ],
   "source": [
    "# 2. Write a python program to find largest element in an array\n",
    "def large(b):\n",
    "    l = int(b[0])\n",
    "    for i in b:\n",
    "        if l < int(i):\n",
    "            l = int(i)\n",
    "        else:\n",
    "            continue\n",
    "    return l\n",
    "try:\n",
    "    x = input(\"Please enter an array of numbers saperated by comma:\")\n",
    "    y = str.split(x,',')\n",
    "    \n",
    "    print(\"The largest number of array is \",large(y))\n",
    "            \n",
    "except Exception as e:\n",
    "    print(e)"
   ]
  },
  {
   "cell_type": "code",
   "execution_count": 10,
   "metadata": {},
   "outputs": [
    {
     "name": "stdout",
     "output_type": "stream",
     "text": [
      "Please enter an array of saperated by comma:524,\"afd\",346,True,\"dafghlkas\",36546,4+3j\n",
      "The rotation of array is  ['4+3j', '36546', '\"dafghlkas\"', 'True', '346', '\"afd\"', '524']\n"
     ]
    }
   ],
   "source": [
    "# 3. Write a python program for array rotation\n",
    "\n",
    "def rot(a):\n",
    "    for i in a:\n",
    "        b = a[::-1]\n",
    "    return b\n",
    "\n",
    "try:\n",
    "    x = input(\"Please enter an array of saperated by comma:\")\n",
    "    y = str.split(x,',')\n",
    "    \n",
    "    print(\"The rotation of array is \",rot(y))\n",
    "            \n",
    "except Exception as e:\n",
    "    print(e)"
   ]
  },
  {
   "cell_type": "code",
   "execution_count": 20,
   "metadata": {},
   "outputs": [
    {
     "name": "stdout",
     "output_type": "stream",
     "text": [
      "Please enter an array of saperated by comma:354,False,\"afkl,True,522+5j\n",
      "The array after splitiint and adding the first part at the end is  ['\"afkl', 'True', '522+5j', '354', 'False']\n"
     ]
    }
   ],
   "source": [
    "# 4. Write a python program to split the array and add the first part to the end\n",
    "\n",
    "def split_add(l):\n",
    "    half = int(len(l)/2)\n",
    "    m = l[half:len(l)] + l[0:half]\n",
    "    return m\n",
    "\n",
    "try:\n",
    "    x = input(\"Please enter an array of saperated by comma:\")\n",
    "    y = str.split(x,',')\n",
    "    \n",
    "    print(\"The array after splitiint and adding the first part at the end is \",split_add(y))\n",
    "            \n",
    "except Exception as e:\n",
    "    print(e)\n",
    "    \n",
    "    "
   ]
  },
  {
   "cell_type": "code",
   "execution_count": 6,
   "metadata": {},
   "outputs": [
    {
     "name": "stdout",
     "output_type": "stream",
     "text": [
      "Please enter an array of saperated by comma:1,6,2,14,9\n",
      "The array is not monotonic\n"
     ]
    }
   ],
   "source": [
    "# Write a python program to check if an array is Monotonic.\n",
    "\n",
    "def mon(l):\n",
    "    return (all(l[i]<=l[i+1] for i in range(len(l)-1)) or all(l[i]>=l[i+1] for i in range(len(l)-1)))\n",
    "try:\n",
    "    x = input(\"Please enter an array of saperated by comma:\")\n",
    "    y = str.split(x,',')\n",
    "    if mon(y) == True:\n",
    "        print(\"The array is monotonic.\")\n",
    "    else:\n",
    "        print(\"The array is not monotonic\")\n",
    "            \n",
    "except Exception as e:\n",
    "    print(e)       "
   ]
  },
  {
   "cell_type": "code",
   "execution_count": null,
   "metadata": {},
   "outputs": [],
   "source": []
  }
 ],
 "metadata": {
  "kernelspec": {
   "display_name": "Python 3",
   "language": "python",
   "name": "python3"
  },
  "language_info": {
   "codemirror_mode": {
    "name": "ipython",
    "version": 3
   },
   "file_extension": ".py",
   "mimetype": "text/x-python",
   "name": "python",
   "nbconvert_exporter": "python",
   "pygments_lexer": "ipython3",
   "version": "3.8.5"
  }
 },
 "nbformat": 4,
 "nbformat_minor": 4
}
