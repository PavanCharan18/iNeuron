{
 "cells": [
  {
   "cell_type": "code",
   "execution_count": 1,
   "metadata": {},
   "outputs": [
    {
     "name": "stdout",
     "output_type": "stream",
     "text": [
      "Hello Python...!\n"
     ]
    }
   ],
   "source": [
    "# 1. Write a Python program to print \"Hello Python\".\n",
    "print(\"Hello Python...!\")"
   ]
  },
  {
   "cell_type": "code",
   "execution_count": 2,
   "metadata": {},
   "outputs": [
    {
     "name": "stdout",
     "output_type": "stream",
     "text": [
      "Enter value of a:4\n",
      "Enter value of b:2\n",
      "Adding a and b gives 6\n",
      "Dividing a by b gives 2.0\n"
     ]
    }
   ],
   "source": [
    "# 2. Write a Python program to do arithmetical operations addition and division.\n",
    "a = int(input(\"Enter value of a:\"))\n",
    "b = int(input(\"Enter value of b:\"))\n",
    "print(\"Adding a and b gives {}\".format(a+b))\n",
    "print(\"Dividing a by b gives {}\".format(a/b))"
   ]
  },
  {
   "cell_type": "code",
   "execution_count": 8,
   "metadata": {},
   "outputs": [
    {
     "name": "stdout",
     "output_type": "stream",
     "text": [
      "Enter the method of finding the area of triangle: 's' for three sides or 'b' for base and heightd\n",
      "\n",
      "Apologies, 'd'' is invalid input..!\n"
     ]
    }
   ],
   "source": [
    "# 3. Write a python program to find the area of a triangle.\n",
    "m = input(\"Enter the method of finding the area of triangle: 's' for three sides or 'b' for base and height\")\n",
    "print(\"\\r\")\n",
    "if m == 's':\n",
    "    a = int(input(\"Enter first side of triangle, a = \"))\n",
    "    b = int(input(\"Enter second side of triange, b = \"))\n",
    "    c = int(input(\"Enter third side of triangle, c = \"))\n",
    "    s = (a+b+c)/2\n",
    "    print(\"Area of triangle = {}\".format(((s*(s-a)*(s-b)*(s-c))**0.5)))\n",
    "elif m == 'b':\n",
    "    b = int(input(\"Enter the base length, b = \"))\n",
    "    h = int(input(\"Enter the height, h = \"))\n",
    "    print(\"Area of triangle = {}\". format(0.5*b*h))\n",
    "\n",
    "else:\n",
    "    print(\"Apologies, '{}' is invalid input..!\".format(m))\n"
   ]
  },
  {
   "cell_type": "code",
   "execution_count": 13,
   "metadata": {},
   "outputs": [
    {
     "name": "stdout",
     "output_type": "stream",
     "text": [
      "Enter first variable, a = 4\n",
      "Enter second variagle, b = 5\n",
      "After swapping, the values of a and b are 5 and 4 respectively\n"
     ]
    }
   ],
   "source": [
    "# 3. Write a python progam to swap two variables\n",
    "a = input(\"Enter first variable, a = \")\n",
    "b = input(\"Enter second variagle, b = \")\n",
    "c = b\n",
    "b = a\n",
    "a = c\n",
    "print(\"After swapping, the values of a and b are {} and {} respectively\".format(a,b))"
   ]
  },
  {
   "cell_type": "code",
   "execution_count": 32,
   "metadata": {},
   "outputs": [
    {
     "data": {
      "text/plain": [
       "6"
      ]
     },
     "execution_count": 32,
     "metadata": {},
     "output_type": "execute_result"
    }
   ],
   "source": [
    "# Write a python program to generate a random number.\n",
    "randint(0,10)"
   ]
  },
  {
   "cell_type": "code",
   "execution_count": null,
   "metadata": {},
   "outputs": [],
   "source": []
  }
 ],
 "metadata": {
  "kernelspec": {
   "display_name": "Python 3",
   "language": "python",
   "name": "python3"
  },
  "language_info": {
   "codemirror_mode": {
    "name": "ipython",
    "version": 3
   },
   "file_extension": ".py",
   "mimetype": "text/x-python",
   "name": "python",
   "nbconvert_exporter": "python",
   "pygments_lexer": "ipython3",
   "version": "3.8.5"
  }
 },
 "nbformat": 4,
 "nbformat_minor": 4
}
