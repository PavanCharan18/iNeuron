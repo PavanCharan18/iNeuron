{
 "cells": [
  {
   "cell_type": "code",
   "execution_count": 9,
   "metadata": {},
   "outputs": [
    {
     "name": "stdout",
     "output_type": "stream",
     "text": [
      "How many terms: 10\n",
      "0\n",
      "1\n",
      "1\n",
      "2\n",
      "3\n",
      "5\n",
      "8\n",
      "13\n",
      "21\n",
      "34\n"
     ]
    }
   ],
   "source": [
    "# 1. Write a Python program to display Fibonacci Sequence using Recursion\n",
    "def fibo(n):\n",
    "    if n<=1:\n",
    "        return n\n",
    "    else: return (fibo(n-1)+fibo(n-2))\n",
    "\n",
    "try:\n",
    "    n = int(input(\"How many terms: \"))\n",
    "    if n<=0:\n",
    "        print(\"Please enter a positive integer.\")\n",
    "    else:\n",
    "        for i in range(n):\n",
    "            print(fibo(i))\n",
    "except Exception as e:\n",
    "    print(\"Please enter only a positive integer. Error: \",e)"
   ]
  },
  {
   "cell_type": "code",
   "execution_count": 9,
   "metadata": {},
   "outputs": [
    {
     "name": "stdout",
     "output_type": "stream",
     "text": [
      "Enter a positive number: 10\n",
      "The factorial of 10 is 3628800\n"
     ]
    }
   ],
   "source": [
    "# 2. Write a Python program ot find Factorial of a number suning Recursion\n",
    "def fac(n):\n",
    "    if n ==1:\n",
    "        return n\n",
    "    else:\n",
    "        return n*fac(n-1)\n",
    "\n",
    "try:\n",
    "    n = int(input(\"Enter a positive number: \"))\n",
    "    if n<0:\n",
    "        print(\"Factorial doesn't exist for a negative number\")\n",
    "    elif n == 0:\n",
    "        print(\"The factorial of 0 is 1\")\n",
    "    else:\n",
    "        print(\"The factorial of {} is {}\".format(n,fac(n)))\n",
    "\n",
    "except Exception as e:\n",
    "    print(\"Enter only a positive integer. Error: \",e)"
   ]
  },
  {
   "cell_type": "code",
   "execution_count": 2,
   "metadata": {},
   "outputs": [
    {
     "name": "stdout",
     "output_type": "stream",
     "text": [
      "Enter your weight in kilograms: 76\n",
      "Enter your height in meters: 1.7653\n",
      "Your BMI is 24.38802041311965 and you are HEALTHY\n"
     ]
    }
   ],
   "source": [
    "# 3. Write a Python program to calculate your Body Mass Index?\n",
    "wt = float(input(\"Enter your weight in kilograms: \"))\n",
    "ht = float(input(\"Enter your height in meters: \"))\n",
    "bmi = wt / ht**2\n",
    "if bmi >= 25:\n",
    "    print(\"Your BMI is {} and you are OVER WEIGHT\".format(bmi))\n",
    "elif bmi > 18.5 and bmi < 25:\n",
    "    print(\"Your BMI is {} and you are HEALTHY\".format(bmi))\n",
    "else:\n",
    "    print(\"Your BMI is {} and you are UNDER WEIGHT\".format(bmi))"
   ]
  },
  {
   "cell_type": "code",
   "execution_count": 6,
   "metadata": {},
   "outputs": [
    {
     "name": "stdout",
     "output_type": "stream",
     "text": [
      "Enter a number: 10\n",
      "The natural logarithm of 10 is 2.302585092994046\n"
     ]
    }
   ],
   "source": [
    "# 4. Write a Python program to calculate the natural logarithm of any number\n",
    "a = int(input(\"Enter a number: \"))\n",
    "import math\n",
    "print(\"The natural logarithm of {} is {}\".format(a,math.log(a)))"
   ]
  },
  {
   "cell_type": "code",
   "execution_count": 9,
   "metadata": {},
   "outputs": [
    {
     "name": "stdout",
     "output_type": "stream",
     "text": [
      "Enter a number n = 3\n",
      "The sum of cubes of 3 natural numbers is 36\n"
     ]
    }
   ],
   "source": [
    "# 5. Write a Python program for cube of sum of first n natural numbers\n",
    "n = int(input(\"Enter a number n = \"))\n",
    "s = int((n*(n+1)/2)**2)\n",
    "print(\"The sum of cubes of {} natural numbers is {}\".format(n,s))"
   ]
  }
 ],
 "metadata": {
  "kernelspec": {
   "display_name": "Python 3",
   "language": "python",
   "name": "python3"
  },
  "language_info": {
   "codemirror_mode": {
    "name": "ipython",
    "version": 3
   },
   "file_extension": ".py",
   "mimetype": "text/x-python",
   "name": "python",
   "nbconvert_exporter": "python",
   "pygments_lexer": "ipython3",
   "version": "3.8.5"
  }
 },
 "nbformat": 4,
 "nbformat_minor": 4
}
