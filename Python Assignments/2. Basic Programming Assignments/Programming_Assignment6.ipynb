{
 "cells": [
  {
   "cell_type": "code",
   "execution_count": 1,
   "metadata": {},
   "outputs": [],
   "source": [
    "# 1. Write a Python program to display Fibonacci Sequence using Recursion"
   ]
  },
  {
   "cell_type": "code",
   "execution_count": 2,
   "metadata": {},
   "outputs": [],
   "source": [
    "# 2. Write a Python program ot find Factorial of a number suning Recursion"
   ]
  },
  {
   "cell_type": "code",
   "execution_count": 2,
   "metadata": {},
   "outputs": [
    {
     "name": "stdout",
     "output_type": "stream",
     "text": [
      "Enter your weight in kilograms: 76\n",
      "Enter your height in meters: 1.7653\n",
      "Your BMI is 24.38802041311965 and you are HEALTHY\n"
     ]
    }
   ],
   "source": [
    "# 3. Write a Python program to calculate your Body Mass Index?\n",
    "wt = float(input(\"Enter your weight in kilograms: \"))\n",
    "ht = float(input(\"Enter your height in meters: \"))\n",
    "bmi = wt / ht**2\n",
    "if bmi >= 25:\n",
    "    print(\"Your BMI is {} and you are OVER WEIGHT\".format(bmi))\n",
    "elif bmi > 18.5 and bmi < 25:\n",
    "    print(\"Your BMI is {} and you are HEALTHY\".format(bmi))\n",
    "else:\n",
    "    print(\"Your BMI is {} and you are UNDER WEIGHT\".format(bmi))"
   ]
  },
  {
   "cell_type": "code",
   "execution_count": 6,
   "metadata": {},
   "outputs": [
    {
     "name": "stdout",
     "output_type": "stream",
     "text": [
      "Enter a number: 10\n",
      "The natural logarithm of 10 is 2.302585092994046\n"
     ]
    }
   ],
   "source": [
    "# 4. Write a Python program to calculate the natural logarithm of any number\n",
    "a = int(input(\"Enter a number: \"))\n",
    "import math\n",
    "print(\"The natural logarithm of {} is {}\".format(a,math.log(a)))"
   ]
  },
  {
   "cell_type": "code",
   "execution_count": 9,
   "metadata": {},
   "outputs": [
    {
     "name": "stdout",
     "output_type": "stream",
     "text": [
      "Enter a number n = 3\n",
      "The sum of cubes of 3 natural numbers is 36\n"
     ]
    }
   ],
   "source": [
    "# 5. Write a Python program for cube of sum of first n natural numbers\n",
    "n = int(input(\"Enter a number n = \"))\n",
    "s = int((n*(n+1)/2)**2)\n",
    "print(\"The sum of cubes of {} natural numbers is {}\".format(n,s))"
   ]
  }
 ],
 "metadata": {
  "kernelspec": {
   "display_name": "Python 3",
   "language": "python",
   "name": "python3"
  },
  "language_info": {
   "codemirror_mode": {
    "name": "ipython",
    "version": 3
   },
   "file_extension": ".py",
   "mimetype": "text/x-python",
   "name": "python",
   "nbconvert_exporter": "python",
   "pygments_lexer": "ipython3",
   "version": "3.8.5"
  }
 },
 "nbformat": 4,
 "nbformat_minor": 4
}
