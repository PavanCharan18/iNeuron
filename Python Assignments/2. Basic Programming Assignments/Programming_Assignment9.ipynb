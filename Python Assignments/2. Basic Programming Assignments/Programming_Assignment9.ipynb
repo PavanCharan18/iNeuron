{
 "cells": [
  {
   "cell_type": "code",
   "execution_count": 19,
   "metadata": {},
   "outputs": [
    {
     "name": "stdout",
     "output_type": "stream",
     "text": [
      "Enter a number: 135\n",
      "135 in a disarium number\n"
     ]
    }
   ],
   "source": [
    "# 1. Write a python program to check if the given number is disarium number\n",
    "# A disarium nuber is a number if sum of its digits powered with their respective positions is equal to that number.\n",
    "a = input(\"Enter a number: \")\n",
    "s = 0\n",
    "for i in range(0, len(a)):\n",
    "    s = s + int(a[i])**(i+1)\n",
    "if s == int(a):\n",
    "    print(\"{} in a disarium number\".format(a))\n",
    "else:\n",
    "    print(\"{} in not a disarium number\".format(a))"
   ]
  },
  {
   "cell_type": "code",
   "execution_count": 30,
   "metadata": {},
   "outputs": [
    {
     "name": "stdout",
     "output_type": "stream",
     "text": [
      "Enter a number: 1000\n",
      "1\n",
      "2\n",
      "3\n",
      "4\n",
      "5\n",
      "6\n",
      "7\n",
      "8\n",
      "9\n",
      "89\n",
      "135\n",
      "175\n",
      "518\n",
      "598\n"
     ]
    }
   ],
   "source": [
    "#  2. Write a python program to write all the disarium numbers between 1 to 100.\n",
    "a = int(input(\"Enter a number: \"))\n",
    "for i in range(1,a):\n",
    "    b = str(i)\n",
    "    s = 0\n",
    "    for j in range(0, len(b)):\n",
    "        s = s + int(b[j])**(j+1)\n",
    "       # print(s)\n",
    "    if s == i:\n",
    "        print(i)"
   ]
  },
  {
   "cell_type": "code",
   "execution_count": null,
   "metadata": {},
   "outputs": [],
   "source": [
    "# 3. Write a python program to check if the given number is Happy number.\n",
    "# Happy number is number which eventually reaches 1 when replaces by sum of square of each digit.\n"
   ]
  },
  {
   "cell_type": "code",
   "execution_count": null,
   "metadata": {},
   "outputs": [],
   "source": [
    "# 4. Write a python program to print all happy numbers between 1 and 100."
   ]
  },
  {
   "cell_type": "code",
   "execution_count": null,
   "metadata": {},
   "outputs": [],
   "source": [
    "# 5. Write a python program to determine whether the given number is a Harshad number or not.\n",
    "# Harshad number is a number which is divible by sum of its digits.\n",
    "a = input(\"Enter a number: \")\n",
    "s = 0\n",
    "for i in range(0,len(a)):\n",
    "    s = s + int(a[i])\n",
    "if int(a) % s == 0:\n",
    "    print(\"{} in a Harshad number\".format(a))\n",
    "else:\n",
    "    print(\"{} in not a Harshad number\".format(a))"
   ]
  },
  {
   "cell_type": "code",
   "execution_count": 15,
   "metadata": {},
   "outputs": [
    {
     "name": "stdout",
     "output_type": "stream",
     "text": [
      "2\n",
      "6\n",
      "12\n",
      "20\n",
      "30\n",
      "42\n",
      "56\n",
      "72\n",
      "90\n"
     ]
    }
   ],
   "source": [
    "# 6. Write a python program to print all pronic numbers between 1 and 100.\n",
    "# A pronic number is one which is product of two consequtive numbers\n",
    "for i in range(0,100):\n",
    "    for j in range(0,i):\n",
    "        if i == j*(j+1):\n",
    "            print(i)\n",
    "            break"
   ]
  }
 ],
 "metadata": {
  "kernelspec": {
   "display_name": "Python 3",
   "language": "python",
   "name": "python3"
  },
  "language_info": {
   "codemirror_mode": {
    "name": "ipython",
    "version": 3
   },
   "file_extension": ".py",
   "mimetype": "text/x-python",
   "name": "python",
   "nbconvert_exporter": "python",
   "pygments_lexer": "ipython3",
   "version": "3.8.5"
  }
 },
 "nbformat": 4,
 "nbformat_minor": 4
}
