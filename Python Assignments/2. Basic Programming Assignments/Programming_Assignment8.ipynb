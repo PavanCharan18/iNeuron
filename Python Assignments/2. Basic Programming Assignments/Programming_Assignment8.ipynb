{
 "cells": [
  {
   "cell_type": "code",
   "execution_count": 14,
   "metadata": {},
   "outputs": [
    {
     "name": "stdout",
     "output_type": "stream",
     "text": [
      "[[2, 4, 6], [8, 10, 12], [18, 20, 22]]\n"
     ]
    }
   ],
   "source": [
    "# 1. Write a python program to add two matrices\n",
    "def mat_sum(a,b):\n",
    "    c=[]\n",
    "    for i in range(len(a)):\n",
    "        l = []\n",
    "        for j in range(len(a[i])):\n",
    "            l.append(a[i][j]+b[i][j])\n",
    "        c.append(l)    \n",
    "    return c\n",
    "\n",
    "a = [[1,2,3],[4,5,6],[9,10,11]]\n",
    "b = [[1,2,3],[4,5,6],[9,10,11]]\n",
    "\n",
    "try:\n",
    "    l = len(a)\n",
    "    m = len(a[0])\n",
    "    n = len(b)\n",
    "    p = len(b[0])\n",
    "    if l != n and m != p:\n",
    "        print(\"Matrix Addition is not possible\")\n",
    "    else:\n",
    "        print(mat_sum(a,b))\n",
    "except Exception as e:\n",
    "    print(e)"
   ]
  },
  {
   "cell_type": "code",
   "execution_count": 24,
   "metadata": {},
   "outputs": [
    {
     "name": "stdout",
     "output_type": "stream",
     "text": [
      "[[0, 0], [0, 0]]\n",
      "[[1, 2], [4, 5]]\n"
     ]
    }
   ],
   "source": [
    "# 2. Write a python program to multiply two matrices\n",
    "def mat_mul(a,b):\n",
    "    l = len(a)\n",
    "    m = len(a[0])\n",
    "    n = len(b)\n",
    "    p = len(b[0])\n",
    "    \n",
    "    if m != n:\n",
    "        print(\"Matrix multiplication is not possible\")\n",
    "    else:\n",
    "        #calculation size of resultant matrix\n",
    "        r = []\n",
    "        for i in range(l):\n",
    "            l=[]\n",
    "            for j in range(p):\n",
    "                l.append(0)\n",
    "            r.append(l)\n",
    "        \n",
    "        # multiplication of matrices              \n",
    "        for i in range(len(a)):\n",
    "            l = []\n",
    "            s = 0\n",
    "            for j in range(len(b[0])):\n",
    "                for k in range(len(b)):\n",
    "                    r[i][j] = r[i][j]+(a[i][k]*b[k][j])\n",
    "        return r\n",
    "\n",
    "a = [[1,2,3],[4,5,6]]\n",
    "b = [[1,0],[0,1],[0,0]]\n",
    "\n",
    "try:\n",
    "    print(mat_mul(a,b))\n",
    "except Exception as e:\n",
    "    print(e)"
   ]
  },
  {
   "cell_type": "code",
   "execution_count": 32,
   "metadata": {},
   "outputs": [
    {
     "name": "stdout",
     "output_type": "stream",
     "text": [
      "[[1, 4, 7], [2, 5, 8], [3, 6, 9]]\n"
     ]
    }
   ],
   "source": [
    "# 3. Write a program to find Transpose of a matrix.\n",
    "def transpose(a):\n",
    "    l = len(a)\n",
    "    m = len(a[0])\n",
    "    r = []\n",
    "    for i in range(m):\n",
    "            k=[]\n",
    "            for j in range(l):\n",
    "                k.append(0)\n",
    "            r.append(k)\n",
    "    #print(r)\n",
    "    \n",
    "    for i in range(m):\n",
    "        for j in range(l):\n",
    "            r[i][j] = a[j][i]\n",
    "    return r\n",
    "\n",
    "a = [[1,2,3],[4,5,6],[7,8,9]]\n",
    "\n",
    "try:\n",
    "    print(transpose(a))\n",
    "except Exception as e:\n",
    "    print(e)"
   ]
  },
  {
   "cell_type": "code",
   "execution_count": 56,
   "metadata": {},
   "outputs": [
    {
     "name": "stdout",
     "output_type": "stream",
     "text": [
      "Enter some words saperated by spaces: hello this is an Example With cased Letters\n",
      "['an', 'cased', 'example', 'hello', 'is', 'letters', 'this', 'with']\n"
     ]
    }
   ],
   "source": [
    "# 4. Write a python program to sort words in alphabatical order\n",
    "\n",
    "s = input(\"Enter some words saperated by spaces: \")\n",
    "words =[word.lower() for word in s.split()] \n",
    "words.sort()\n",
    "print(words)"
   ]
  },
  {
   "cell_type": "code",
   "execution_count": 53,
   "metadata": {},
   "outputs": [
    {
     "name": "stdout",
     "output_type": "stream",
     "text": [
      "Enter a sentense: Hello..! My name is P;a,v.a.n@c$h^a*r)aN\n",
      "Hello My name is PavancharaN\n"
     ]
    }
   ],
   "source": [
    "# 5. Write a python program to remove punctuation from string\n",
    "\n",
    "punct = \"''!()!@#$%^&*(_+;:/.,<>\\|)\"\n",
    "s = input(\"Enter a sentense: \")\n",
    "no_punct = \"\"\n",
    "for i in s:\n",
    "    if i not in punct:\n",
    "        no_punct = no_punct + i\n",
    "print(no_punct)"
   ]
  },
  {
   "cell_type": "code",
   "execution_count": null,
   "metadata": {},
   "outputs": [],
   "source": []
  }
 ],
 "metadata": {
  "kernelspec": {
   "display_name": "Python 3",
   "language": "python",
   "name": "python3"
  },
  "language_info": {
   "codemirror_mode": {
    "name": "ipython",
    "version": 3
   },
   "file_extension": ".py",
   "mimetype": "text/x-python",
   "name": "python",
   "nbconvert_exporter": "python",
   "pygments_lexer": "ipython3",
   "version": "3.8.5"
  }
 },
 "nbformat": 4,
 "nbformat_minor": 4
}
