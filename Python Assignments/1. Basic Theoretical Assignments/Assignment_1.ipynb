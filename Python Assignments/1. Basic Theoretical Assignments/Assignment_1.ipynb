{
 "cells": [
  {
   "cell_type": "code",
   "execution_count": 8,
   "metadata": {},
   "outputs": [
    {
     "data": {
      "text/plain": [
       "\"1.In the below elements which of them are values or an expression? eg:- values can be integer or string and expressions will be mathematical operators.\\n *        Expression\\n #'hello'  Value\\n -87.8    Value\\n -        Expression\\n /        Expression\\n +        Expression\\n 6        Value\\n\""
      ]
     },
     "execution_count": 8,
     "metadata": {},
     "output_type": "execute_result"
    }
   ],
   "source": [
    "\"\"\"1.In the below elements which of them are values or an expression? eg:- values can be integer or string and expressions will be mathematical operators.\n",
    " *        Expression\n",
    " #'hello'  Value\n",
    " -87.8    Value\n",
    " -        Expression\n",
    " /        Expression\n",
    " +        Expression\n",
    " 6        Value\n",
    "\"\"\""
   ]
  },
  {
   "cell_type": "code",
   "execution_count": 9,
   "metadata": {},
   "outputs": [
    {
     "data": {
      "text/plain": [
       "'2. What is the difference between string and variable?\\n\\n        A string is a value (may be letters, words, combination of both) and variable can store the values (integer values, string values, complex values, Boolean values etc)\\n'"
      ]
     },
     "execution_count": 9,
     "metadata": {},
     "output_type": "execute_result"
    }
   ],
   "source": [
    "\"\"\"\n",
    "2. What is the difference between string and variable?\n",
    "\n",
    "        A string is a value (may be letters, words, combination of both) and variable can store the values (integer values, string values, complex values, Boolean values etc)\n",
    "\"\"\""
   ]
  },
  {
   "cell_type": "code",
   "execution_count": 10,
   "metadata": {},
   "outputs": [
    {
     "data": {
      "text/plain": [
       "'3.\\tDescribe three different data types.\\n\\t\\tInt \\t\\t-\\tintegers\\n\\t\\tString\\t\\t-\\tletters or words or combinations of both.\\n\\t\\tFloat\\t\\t-\\tDecimal values\\n\\t\\tComplex\\t-\\tComplex numbers\\n\\t\\tBoolean\\t-\\tTrue or False\\n\\n'"
      ]
     },
     "execution_count": 10,
     "metadata": {},
     "output_type": "execute_result"
    }
   ],
   "source": [
    "\"\"\"3.\tDescribe three different data types.\n",
    "\t\tInt \t\t-\tintegers\n",
    "\t\tString\t\t-\tletters or words or combinations of both.\n",
    "\t\tFloat\t\t-\tDecimal values\n",
    "\t\tComplex\t-\tComplex numbers\n",
    "\t\tBoolean\t-\tTrue or False\n",
    "\n",
    "\"\"\""
   ]
  },
  {
   "cell_type": "code",
   "execution_count": 11,
   "metadata": {},
   "outputs": [
    {
     "data": {
      "text/plain": [
       "'4. What is an expression made up of? What do all expressions do?\\n      Expression is combination of values and mathematical operators. The expression gets executed and calculates the respective values.\\n'"
      ]
     },
     "execution_count": 11,
     "metadata": {},
     "output_type": "execute_result"
    }
   ],
   "source": [
    "\"\"\"\n",
    "4. What is an expression made up of? What do all expressions do?\n",
    "      Expression is combination of values and mathematical operators. The expression gets executed and calculates the respective values.\n",
    "\"\"\""
   ]
  },
  {
   "cell_type": "code",
   "execution_count": 12,
   "metadata": {},
   "outputs": [
    {
     "data": {
      "text/plain": [
       "'5.\\tThis assignment statements, like spam = 10. What is the difference between an expression and a statement?\\nAn expression may consist of mathematical operators and there will calculations are involved. The Statement assigns a value to the variable. The example mentioned in the question states that the value of 10 is being assigned and stored in the variable “spam”.\\n'"
      ]
     },
     "execution_count": 12,
     "metadata": {},
     "output_type": "execute_result"
    }
   ],
   "source": [
    "\"\"\"\n",
    "5.\tThis assignment statements, like spam = 10. What is the difference between an expression and a statement?\n",
    "An expression may consist of mathematical operators and there will calculations are involved. The Statement assigns a value to the variable. The example mentioned in the question states that the value of 10 is being assigned and stored in the variable “spam”.\n",
    "\"\"\""
   ]
  },
  {
   "cell_type": "code",
   "execution_count": 13,
   "metadata": {},
   "outputs": [
    {
     "data": {
      "text/plain": [
       "'6.\\tAfter running the following code, what does the variable bacon contain?\\nbacon = 22\\nbacon + 1'"
      ]
     },
     "execution_count": 13,
     "metadata": {},
     "output_type": "execute_result"
    }
   ],
   "source": [
    "\"\"\"\n",
    "6.\tAfter running the following code, what does the variable bacon contain?\n",
    "bacon = 22\n",
    "bacon + 1\"\"\"\n"
   ]
  },
  {
   "cell_type": "code",
   "execution_count": 14,
   "metadata": {},
   "outputs": [
    {
     "data": {
      "text/plain": [
       "23"
      ]
     },
     "execution_count": 14,
     "metadata": {},
     "output_type": "execute_result"
    }
   ],
   "source": [
    "bacon = 22\n",
    "bacon + 1"
   ]
  },
  {
   "cell_type": "code",
   "execution_count": 15,
   "metadata": {},
   "outputs": [
    {
     "data": {
      "text/plain": [
       "\"\\n7.\\tWhat should the values of the following two terms be?\\n'spam' + 'spamspam'\\n'spam' * 3\\n\\n\\tAns: \\tspamspamspam\\n\""
      ]
     },
     "execution_count": 15,
     "metadata": {},
     "output_type": "execute_result"
    }
   ],
   "source": [
    "\"\"\"\n",
    "7.\tWhat should the values of the following two terms be?\n",
    "'spam' + 'spamspam'\n",
    "'spam' * 3\n",
    "\n",
    "\tAns: \tspamspamspam\n",
    "\"\"\"\n"
   ]
  },
  {
   "cell_type": "code",
   "execution_count": 16,
   "metadata": {},
   "outputs": [
    {
     "data": {
      "text/plain": [
       "'spamspamspam'"
      ]
     },
     "execution_count": 16,
     "metadata": {},
     "output_type": "execute_result"
    }
   ],
   "source": [
    "'spam' + 'spamspam'\n",
    "'spam' * 3\n"
   ]
  },
  {
   "cell_type": "code",
   "execution_count": 17,
   "metadata": {},
   "outputs": [
    {
     "data": {
      "text/plain": [
       "'\\n\\n8.\\tWhy is eggs a valid variable name while 100 is invalid?\\nBecause 100 is an integer and “eggs” is a string. Strings can be used as variables and integers cannot be used. However, following possibilities for the name of variables involving integers are possible.\\neggs_100\\t-\\tvalid\\n100_eggs\\t-\\tnot valid (since variable starts with integer)\\n\\n'"
      ]
     },
     "execution_count": 17,
     "metadata": {},
     "output_type": "execute_result"
    }
   ],
   "source": [
    "\"\"\"\n",
    "\n",
    "8.\tWhy is eggs a valid variable name while 100 is invalid?\n",
    "Because 100 is an integer and “eggs” is a string. Strings can be used as variables and integers cannot be used. However, following possibilities for the name of variables involving integers are possible.\n",
    "eggs_100\t-\tvalid\n",
    "100_eggs\t-\tnot valid (since variable starts with integer)\n",
    "\n",
    "\"\"\""
   ]
  },
  {
   "cell_type": "code",
   "execution_count": 18,
   "metadata": {},
   "outputs": [
    {
     "data": {
      "text/plain": [
       "'\\n\\n9.\\tWhat three functions can be used to get the integer, floating-point number, or string version of a value?\\nAns:\\nFor integer:\\tint()\\nFor Float:\\tfloat()\\nFor string:\\tstr()\\n\\n'"
      ]
     },
     "execution_count": 18,
     "metadata": {},
     "output_type": "execute_result"
    }
   ],
   "source": [
    "\"\"\"\n",
    "\n",
    "9.\tWhat three functions can be used to get the integer, floating-point number, or string version of a value?\n",
    "Ans:\n",
    "For integer:\tint()\n",
    "For Float:\tfloat()\n",
    "For string:\tstr()\n",
    "\n",
    "\"\"\""
   ]
  },
  {
   "cell_type": "code",
   "execution_count": 19,
   "metadata": {},
   "outputs": [
    {
     "data": {
      "text/plain": [
       "\"\\n\\n10.\\tWhy does this expression cause an error? How can you fix it?\\n'I have eaten ' + 99 + ' burritos.'\\nAns: This expression causes an error because the expression states summation of string and an integer i.e., different data types. Summation can be possible only within same data types. The above expression can be corrected as following:\\n'I have eaten ' + ‘99’ + ' burritos.'\\n'I have eaten ' + str(99) + ' burritos.'\\n\\n\""
      ]
     },
     "execution_count": 19,
     "metadata": {},
     "output_type": "execute_result"
    }
   ],
   "source": [
    "\"\"\"\n",
    "\n",
    "10.\tWhy does this expression cause an error? How can you fix it?\n",
    "'I have eaten ' + 99 + ' burritos.'\n",
    "Ans: This expression causes an error because the expression states summation of string and an integer i.e., different data types. Summation can be possible only within same data types. The above expression can be corrected as following:\n",
    "'I have eaten ' + ‘99’ + ' burritos.'\n",
    "'I have eaten ' + str(99) + ' burritos.'\n",
    "\n",
    "\"\"\""
   ]
  },
  {
   "cell_type": "code",
   "execution_count": 20,
   "metadata": {},
   "outputs": [
    {
     "ename": "TypeError",
     "evalue": "can only concatenate str (not \"int\") to str",
     "output_type": "error",
     "traceback": [
      "\u001b[1;31m---------------------------------------------------------------------------\u001b[0m",
      "\u001b[1;31mTypeError\u001b[0m                                 Traceback (most recent call last)",
      "\u001b[1;32m<ipython-input-20-d24137131a5c>\u001b[0m in \u001b[0;36m<module>\u001b[1;34m\u001b[0m\n\u001b[1;32m----> 1\u001b[1;33m \u001b[1;34m'I have eaten '\u001b[0m \u001b[1;33m+\u001b[0m \u001b[1;36m99\u001b[0m \u001b[1;33m+\u001b[0m \u001b[1;34m' burritos.'\u001b[0m\u001b[1;33m\u001b[0m\u001b[1;33m\u001b[0m\u001b[0m\n\u001b[0m",
      "\u001b[1;31mTypeError\u001b[0m: can only concatenate str (not \"int\") to str"
     ]
    }
   ],
   "source": [
    "'I have eaten ' + 99 + ' burritos.'"
   ]
  },
  {
   "cell_type": "code",
   "execution_count": 22,
   "metadata": {},
   "outputs": [
    {
     "data": {
      "text/plain": [
       "'I have eaten 99 burritos.'"
      ]
     },
     "execution_count": 22,
     "metadata": {},
     "output_type": "execute_result"
    }
   ],
   "source": [
    "'I have eaten ' + \"99\" + ' burritos.'\n"
   ]
  },
  {
   "cell_type": "code",
   "execution_count": 24,
   "metadata": {},
   "outputs": [
    {
     "data": {
      "text/plain": [
       "'I have eaten 99 burritos.'"
      ]
     },
     "execution_count": 24,
     "metadata": {},
     "output_type": "execute_result"
    }
   ],
   "source": [
    "'I have eaten ' + str(99) + ' burritos.'"
   ]
  },
  {
   "cell_type": "code",
   "execution_count": null,
   "metadata": {},
   "outputs": [],
   "source": []
  }
 ],
 "metadata": {
  "kernelspec": {
   "display_name": "Python 3",
   "language": "python",
   "name": "python3"
  },
  "language_info": {
   "codemirror_mode": {
    "name": "ipython",
    "version": 3
   },
   "file_extension": ".py",
   "mimetype": "text/x-python",
   "name": "python",
   "nbconvert_exporter": "python",
   "pygments_lexer": "ipython3",
   "version": "3.8.5"
  }
 },
 "nbformat": 4,
 "nbformat_minor": 4
}
