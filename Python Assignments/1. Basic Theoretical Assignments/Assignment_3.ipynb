{
 "cells": [
  {
   "cell_type": "code",
   "execution_count": 1,
   "metadata": {},
   "outputs": [
    {
     "data": {
      "text/plain": [
       "' A function once declared can be used any where and can be used any number of times to perform a task.'"
      ]
     },
     "execution_count": 1,
     "metadata": {},
     "output_type": "execute_result"
    }
   ],
   "source": [
    "# 1. Why are functions advantageous to have in your programs?\n",
    "\n",
    "\" A function once declared can be used any where and can be used any number of times to perform a task.\""
   ]
  },
  {
   "cell_type": "code",
   "execution_count": 2,
   "metadata": {},
   "outputs": [
    {
     "data": {
      "text/plain": [
       "' A code in a function runs only when it is called for.'"
      ]
     },
     "execution_count": 2,
     "metadata": {},
     "output_type": "execute_result"
    }
   ],
   "source": [
    "# 2. When does the code in a function run: when it's specified or when it's called?\n",
    "\n",
    "\" A code in a function runs only when it is called for.\""
   ]
  },
  {
   "cell_type": "code",
   "execution_count": 3,
   "metadata": {},
   "outputs": [
    {
     "data": {
      "text/plain": [
       "\" 'def' is a word which creates a function\""
      ]
     },
     "execution_count": 3,
     "metadata": {},
     "output_type": "execute_result"
    }
   ],
   "source": [
    "# 3. What statement creates a function?\n",
    "\n",
    "\" 'def' is a word which creates a function\""
   ]
  },
  {
   "cell_type": "code",
   "execution_count": 4,
   "metadata": {},
   "outputs": [
    {
     "data": {
      "text/plain": [
       "' A function is defining a function and writing a code for what to run in a function. A function call calls a function and runs the code within a function'"
      ]
     },
     "execution_count": 4,
     "metadata": {},
     "output_type": "execute_result"
    }
   ],
   "source": [
    "#  4. What is the difference between a function and a function call?\n",
    "\" A function is defining a function and writing a code for what to run in a function. A function call calls a function and runs the code within a function\""
   ]
  },
  {
   "cell_type": "code",
   "execution_count": 30,
   "metadata": {},
   "outputs": [
    {
     "data": {
      "text/plain": [
       "'There is only one global scope in a python program. However, the number of local scopes depend on the number of functions we declare. Each function can have a local scope.'"
      ]
     },
     "execution_count": 30,
     "metadata": {},
     "output_type": "execute_result"
    }
   ],
   "source": [
    "# 5. How many global scopes are there in a Python program? How many local scopes?\n",
    "\n",
    "\"There is only one global scope in a python program. However, the number of local scopes depend on the number of functions we declare. Each function can have a local scope.\""
   ]
  },
  {
   "cell_type": "code",
   "execution_count": 9,
   "metadata": {},
   "outputs": [
    {
     "data": {
      "text/plain": [
       "'After a function returns a value, the local variable gets destroyed. Local variable are created when a function is called and gets destroyed once the function returns the value'"
      ]
     },
     "execution_count": 9,
     "metadata": {},
     "output_type": "execute_result"
    }
   ],
   "source": [
    "# 6. What happens to variables in a local scope when the function call returns?\n",
    "\n",
    "\"After a function returns a value, the local variable gets destroyed. Local variable are created when a function is called and gets destroyed once the function returns the value\""
   ]
  },
  {
   "cell_type": "code",
   "execution_count": 11,
   "metadata": {},
   "outputs": [
    {
     "data": {
      "text/plain": [
       "12"
      ]
     },
     "execution_count": 11,
     "metadata": {},
     "output_type": "execute_result"
    }
   ],
   "source": [
    "# 7. What is the concept of a return value? Is it possible to have a return value in an expression?\n",
    "\n",
    "\" The concept of return value is to get the output of a function. The value after returned can be used in an expression\"\n",
    "\n",
    "def fun(a):\n",
    "    b = a + 1\n",
    "    return b\n",
    "\n",
    "5 + fun(6)"
   ]
  },
  {
   "cell_type": "code",
   "execution_count": 27,
   "metadata": {},
   "outputs": [
    {
     "data": {
      "text/plain": [
       "\"If a function doesn't have a return statement, it does not return any value. Even though the function is called for, the output does not give any value\""
      ]
     },
     "execution_count": 27,
     "metadata": {},
     "output_type": "execute_result"
    }
   ],
   "source": [
    "# 8. If a function does not have a return statement, what is the return value of a call to that function?\n",
    "\n",
    "\"If a function doesn't have a return statement, it does not return any value. Even though the function is called for, the output does not give any value\""
   ]
  },
  {
   "cell_type": "code",
   "execution_count": 22,
   "metadata": {},
   "outputs": [
    {
     "name": "stdout",
     "output_type": "stream",
     "text": [
      "The value of a outside the function is : 10\n"
     ]
    }
   ],
   "source": [
    "# 9. How do you make a function variable refer to the global variable?\n",
    "\n",
    "\"A global variable can be declared in function stating the word 'global' before it\"\n",
    "a = 10\n",
    "\n",
    "def fun1():\n",
    "    global a\n",
    "    a = a + 5\n",
    "\n",
    "print(\"The value of a outside the function is :\",a)"
   ]
  },
  {
   "cell_type": "code",
   "execution_count": 29,
   "metadata": {},
   "outputs": [
    {
     "data": {
      "text/plain": [
       "\"Data type is 'None'\""
      ]
     },
     "execution_count": 29,
     "metadata": {},
     "output_type": "execute_result"
    }
   ],
   "source": [
    "# 10. What is the data type of None?\n",
    "\n",
    "\"Data type is 'None'\""
   ]
  },
  {
   "cell_type": "code",
   "execution_count": 17,
   "metadata": {},
   "outputs": [
    {
     "data": {
      "text/plain": [
       "'Imports a module named areallyourpetsnamederic'"
      ]
     },
     "execution_count": 17,
     "metadata": {},
     "output_type": "execute_result"
    }
   ],
   "source": [
    "# 11. What does the sentence import areallyourpetsnamederic do?\n",
    "\n",
    "\"Imports a module named areallyourpetsnamederic\""
   ]
  },
  {
   "cell_type": "code",
   "execution_count": 18,
   "metadata": {},
   "outputs": [
    {
     "data": {
      "text/plain": [
       "'spam.bacon()'"
      ]
     },
     "execution_count": 18,
     "metadata": {},
     "output_type": "execute_result"
    }
   ],
   "source": [
    "# 12. If you had a bacon() feature in a spam module, what would you call it after importing spam?\n",
    "\n",
    "\"spam.bacon()\""
   ]
  },
  {
   "cell_type": "code",
   "execution_count": 14,
   "metadata": {},
   "outputs": [],
   "source": [
    "# 13. What can you do to save a programme from crashing if it encounters an error?\n",
    "\n",
    "\"We use the concept of 'Exceptional Handling' to handle the errors and prevent the program from crashing.\""
   ]
  },
  {
   "cell_type": "code",
   "execution_count": 20,
   "metadata": {},
   "outputs": [
    {
     "data": {
      "text/plain": [
       "'The try clause will run the code under it and if an error occurs, exception class will handle the exception. This concept is called Exception Handling'"
      ]
     },
     "execution_count": 20,
     "metadata": {},
     "output_type": "execute_result"
    }
   ],
   "source": [
    "# 14. What is the purpose of the try clause? What is the purpose of the except clause?\n",
    "\"The try clause will run the code under it and if an error occurs, exception class will handle the exception. This concept is called Exception Handling\""
   ]
  }
 ],
 "metadata": {
  "kernelspec": {
   "display_name": "Python 3",
   "language": "python",
   "name": "python3"
  },
  "language_info": {
   "codemirror_mode": {
    "name": "ipython",
    "version": 3
   },
   "file_extension": ".py",
   "mimetype": "text/x-python",
   "name": "python",
   "nbconvert_exporter": "python",
   "pygments_lexer": "ipython3",
   "version": "3.8.5"
  }
 },
 "nbformat": 4,
 "nbformat_minor": 4
}
