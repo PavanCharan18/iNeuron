{
 "cells": [
  {
   "cell_type": "code",
   "execution_count": 1,
   "metadata": {},
   "outputs": [
    {
     "data": {
      "text/plain": [
       "'The two values of boolean operators are True and False and can be written only with first letter capital'"
      ]
     },
     "execution_count": 1,
     "metadata": {},
     "output_type": "execute_result"
    }
   ],
   "source": [
    "# 1.What are the two values of the Boolean data type? How do you write them?\n",
    "\n",
    "\"The two values of boolean operators are True and False and can be written only with first letter capital\""
   ]
  },
  {
   "cell_type": "code",
   "execution_count": 3,
   "metadata": {},
   "outputs": [
    {
     "data": {
      "text/plain": [
       "'AND , OR and NOT'"
      ]
     },
     "execution_count": 3,
     "metadata": {},
     "output_type": "execute_result"
    }
   ],
   "source": [
    "# 2. What are the three different types of Boolean operators?\n",
    "\"AND , OR and NOT\""
   ]
  },
  {
   "cell_type": "code",
   "execution_count": 4,
   "metadata": {},
   "outputs": [
    {
     "data": {
      "text/plain": [
       "'\\nAND:\\n\\nA     B     A and B\\nT     T     T\\nT     F     F\\nF     T     F\\nF     F     F\\n\\nOR: \\n\\nA     B     A or B\\nT     T     T\\nT     F     T\\nF     T     T\\nF     F     F\\n\\nNOT:\\n\\nA     !A\\nT     F\\nF     T\\n'"
      ]
     },
     "execution_count": 4,
     "metadata": {},
     "output_type": "execute_result"
    }
   ],
   "source": [
    "# 3. Make a list of each Boolean operator's truth tables (i.e. every possible combination of Boolean values for the operator and what it evaluate).\n",
    "\"\"\"\n",
    "AND:\n",
    "\n",
    "A     B     A and B\n",
    "T     T     T\n",
    "T     F     F\n",
    "F     T     F\n",
    "F     F     F\n",
    "\n",
    "OR: \n",
    "\n",
    "A     B     A or B\n",
    "T     T     T\n",
    "T     F     T\n",
    "F     T     T\n",
    "F     F     F\n",
    "\n",
    "NOT:\n",
    "\n",
    "A     !A\n",
    "T     F\n",
    "F     T\n",
    "\"\"\""
   ]
  },
  {
   "cell_type": "code",
   "execution_count": 5,
   "metadata": {},
   "outputs": [
    {
     "data": {
      "text/plain": [
       "'\\n\\n    (5 > 4) and (3 == 5)                      False\\n    not (5 > 4)                               False\\n    (5 > 4) or (3 == 5)                       True\\n    not ((5 > 4) or (3 == 5))                 False\\n    (True and True) and (True == False)       False\\n    (not False) or (not True)                 True\\n\\n\\n'"
      ]
     },
     "execution_count": 5,
     "metadata": {},
     "output_type": "execute_result"
    }
   ],
   "source": [
    "# 4. What are the values of the following expressions?\n",
    "#    (5 > 4) and (3 == 5)\n",
    "#    not (5 > 4)\n",
    "#    (5 > 4) or (3 == 5)\n",
    "#    not ((5 > 4) or (3 == 5))\n",
    "#    (True and True) and (True == False)\n",
    "#    (not False) or (not True)\n",
    "\n",
    "\"\"\"\n",
    "\n",
    "    (5 > 4) and (3 == 5)                      False\n",
    "    not (5 > 4)                               False\n",
    "    (5 > 4) or (3 == 5)                       True\n",
    "    not ((5 > 4) or (3 == 5))                 False\n",
    "    (True and True) and (True == False)       False\n",
    "    (not False) or (not True)                 True\n",
    "\n",
    "\n",
    "\"\"\"\n"
   ]
  },
  {
   "cell_type": "code",
   "execution_count": 6,
   "metadata": {},
   "outputs": [
    {
     "data": {
      "text/plain": [
       "\"\\nEquals  '='\\nNot Equals '!='\\nGreater '>'\\nGreater than or equal '>='\\nLesser '<'\\nLesser than or equal '<='\\n\\n\""
      ]
     },
     "execution_count": 6,
     "metadata": {},
     "output_type": "execute_result"
    }
   ],
   "source": [
    "# 5. What are the six comparison operators?\n",
    "\n",
    "\"\"\"\n",
    "Equals  '='\n",
    "Not Equals '!='\n",
    "Greater '>'\n",
    "Greater than or equal '>='\n",
    "Lesser '<'\n",
    "Lesser than or equal '<='\n",
    "\n",
    "\"\"\""
   ]
  },
  {
   "cell_type": "code",
   "execution_count": 7,
   "metadata": {},
   "outputs": [
    {
     "name": "stdout",
     "output_type": "stream",
     "text": [
      "The value of a is 5\n"
     ]
    }
   ],
   "source": [
    "# 6. How do you tell the difference between the equal to and assignment operators? Describe a condition and when you would use one.\n",
    "\n",
    "\"\"\"\n",
    "The assignment operator uses only one '=' sign whereas comparision operator uses two signs i.e., '=='\n",
    "Examples:\n",
    "a = 5 (assigning the value 5 to varialbe a)\n",
    "a == 5 (Comparing if the value of a is 5 or not)\n",
    "\"\"\"\n",
    "\n",
    "a = 5 # assigning the value 5 to varialbe a\n",
    "if a == 5:\n",
    "    print(\"The value of a is 5\")"
   ]
  },
  {
   "cell_type": "code",
   "execution_count": 10,
   "metadata": {},
   "outputs": [
    {
     "name": "stdout",
     "output_type": "stream",
     "text": [
      "ham\n",
      "spam\n",
      "spam\n"
     ]
    }
   ],
   "source": [
    "# 7. Identify the three blocks in this code:\n",
    "\n",
    "# Block 1: Assigning\n",
    "spam = 0\n",
    "\n",
    "# Block 2: if block\n",
    "if spam == 10:\n",
    "    print('eggs')\n",
    "\n",
    "# Block 3: if else block\n",
    "if spam > 5:\n",
    "    print('bacon')\n",
    "else:\n",
    "    print('ham')\n",
    "    print('spam')\n",
    "    print('spam')\n"
   ]
  },
  {
   "cell_type": "code",
   "execution_count": 19,
   "metadata": {},
   "outputs": [
    {
     "name": "stdout",
     "output_type": "stream",
     "text": [
      "Enter an integer: 564\n",
      "Greetings..!\n"
     ]
    }
   ],
   "source": [
    "# 8. Write code that prints Hello if 1 is stored in spam, prints Howdy if 2 is stored in spam, and prints Greetings! if anything else is stored in spam.\n",
    "\n",
    "try:\n",
    "    spam = int(input(\"Enter an integer: \"))\n",
    "    if spam == 1:\n",
    "        print(\"Hello\")\n",
    "    elif spam == 2:\n",
    "        print(\"Howdy..!\")\n",
    "    else:\n",
    "        print(\"Greetings..!\")\n",
    "\n",
    "except Exception as e:\n",
    "    print(\"Please enter only an integer. Error: \",e)\n"
   ]
  },
  {
   "cell_type": "code",
   "execution_count": 22,
   "metadata": {},
   "outputs": [
    {
     "data": {
      "text/plain": [
       "\"We need to press 'Control + C' to stop endless loop.\""
      ]
     },
     "execution_count": 22,
     "metadata": {},
     "output_type": "execute_result"
    }
   ],
   "source": [
    "# 9.If your programme is stuck in an endless loop, what keys you’ll press?\n",
    "\n",
    "\"We need to press 'Control + C' to stop endless loop.\""
   ]
  },
  {
   "cell_type": "code",
   "execution_count": 23,
   "metadata": {},
   "outputs": [
    {
     "data": {
      "text/plain": [
       "\" The 'break' command will break and exit the loop whereas 'continue' command will continue the loop\""
      ]
     },
     "execution_count": 23,
     "metadata": {},
     "output_type": "execute_result"
    }
   ],
   "source": [
    "#10. How can you tell the difference between break and continue?\n",
    "\" The 'break' command will break and exit the loop whereas 'continue' command will continue the loop\""
   ]
  },
  {
   "cell_type": "code",
   "execution_count": 25,
   "metadata": {},
   "outputs": [
    {
     "data": {
      "text/plain": [
       "'There is no difference in range(10), range(0,10) and range(0,10,1) in for loop'"
      ]
     },
     "execution_count": 25,
     "metadata": {},
     "output_type": "execute_result"
    }
   ],
   "source": [
    "# 11. In a for loop, what is the difference between range(10), range(0, 10), and range(0, 10, 1)?\n",
    "\"There is no difference in range(10), range(0,10) and range(0,10,1) in for loop\""
   ]
  },
  {
   "cell_type": "code",
   "execution_count": 32,
   "metadata": {},
   "outputs": [
    {
     "name": "stdout",
     "output_type": "stream",
     "text": [
      "For loop:\n",
      "1\n",
      "2\n",
      "3\n",
      "4\n",
      "5\n",
      "6\n",
      "7\n",
      "8\n",
      "9\n",
      "10\n",
      "For While loop:\n",
      "1\n",
      "2\n",
      "3\n",
      "4\n",
      "5\n",
      "6\n",
      "7\n",
      "8\n",
      "9\n",
      "10\n"
     ]
    }
   ],
   "source": [
    "# 12. Write a short program that prints the numbers 1 to 10 using a for loop. Then write an equivalent program that prints the numbers 1 to 10 using a while loop.\n",
    "\n",
    "print(\"For loop:\")\n",
    "for i in range(10):\n",
    "    print(i+1)\n",
    "\n",
    "print(\"For While loop:\")\n",
    "i = 1\n",
    "while i<=10:\n",
    "    print(i)\n",
    "    i = i+1"
   ]
  },
  {
   "cell_type": "code",
   "execution_count": 37,
   "metadata": {},
   "outputs": [
    {
     "data": {
      "text/plain": [
       "'spam.beacon()'"
      ]
     },
     "execution_count": 37,
     "metadata": {},
     "output_type": "execute_result"
    }
   ],
   "source": [
    "# 13. If you had a function named bacon() inside a module named spam, how would you call it after importing spam?\n",
    "\n",
    "\"spam.beacon()\""
   ]
  }
 ],
 "metadata": {
  "kernelspec": {
   "display_name": "Python 3",
   "language": "python",
   "name": "python3"
  },
  "language_info": {
   "codemirror_mode": {
    "name": "ipython",
    "version": 3
   },
   "file_extension": ".py",
   "mimetype": "text/x-python",
   "name": "python",
   "nbconvert_exporter": "python",
   "pygments_lexer": "ipython3",
   "version": "3.8.5"
  }
 },
 "nbformat": 4,
 "nbformat_minor": 4
}
