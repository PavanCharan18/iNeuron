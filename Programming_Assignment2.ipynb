{
 "cells": [
  {
   "cell_type": "code",
   "execution_count": 3,
   "metadata": {},
   "outputs": [
    {
     "name": "stdout",
     "output_type": "stream",
     "text": [
      "Enter distance in kilometers: 5\n",
      "5.0 kilometers is equal to 3.1 miles\n"
     ]
    }
   ],
   "source": [
    "# 1. Write a python program to convert kilimeters to miles.\n",
    "a = float(input(\"Enter distance in kilometers: \"))\n",
    "print(\"{} kilometers is equal to {} miles\". format(a, 0.62*a))"
   ]
  },
  {
   "cell_type": "code",
   "execution_count": 7,
   "metadata": {},
   "outputs": [
    {
     "name": "stdout",
     "output_type": "stream",
     "text": [
      "Enter temperature in Celsius: 1\n",
      "1.0 Celsius is equal to 33.8 Fahrenheit\n"
     ]
    }
   ],
   "source": [
    "# 2. Write a python program to convert Celsiis to Fahrenheit.\n",
    "t = float(input(\"Enter temperature in Celsius: \"))\n",
    "print(\"{} Celsius is equal to {} Fahrenheit\". format(t, (9*t/5)+32))"
   ]
  },
  {
   "cell_type": "code",
   "execution_count": 20,
   "metadata": {},
   "outputs": [
    {
     "name": "stdout",
     "output_type": "stream",
     "text": [
      "Enter the year:2222\n",
      "Enter the month:01\n",
      "\n",
      "    January 2222\n",
      "Mo Tu We Th Fr Sa Su\n",
      "    1  2  3  4  5  6\n",
      " 7  8  9 10 11 12 13\n",
      "14 15 16 17 18 19 20\n",
      "21 22 23 24 25 26 27\n",
      "28 29 30 31\n",
      "\n"
     ]
    }
   ],
   "source": [
    "# 3. Write a python program to display calender\n",
    "\n",
    "import calendar\n",
    "\n",
    "yy = int(input(\"Enter the year:\"))\n",
    "mm = int(input(\"Enter the month:\"))\n",
    "print(\"\\r\")\n",
    "print(calendar.month(yy,mm))"
   ]
  },
  {
   "cell_type": "code",
   "execution_count": 18,
   "metadata": {},
   "outputs": [
    {
     "name": "stdout",
     "output_type": "stream",
     "text": [
      "Consider the quadratic equation as a x^2 + b x + c = 0\n",
      "Enter the value of a: 1\n",
      "Enter the value of b: 4\n",
      "Enter the value of c: 4\n",
      "0.0\n",
      "The roots of 1.0 x^2 + 4.0 b + 4.0 = 0 are -2.0 and -2.0\n"
     ]
    }
   ],
   "source": [
    "# 4. Write a python program to solve quadratic equation\n",
    "print(\"Consider the quadratic equation as a x^2 + b x + c = 0\")\n",
    "a = float(input(\"Enter the value of a: \"))\n",
    "b = float(input(\"Enter the value of b: \"))\n",
    "c = float(input(\"Enter the value of c: \"))\n",
    "print(b**2 - 4*a*c)\n",
    "r1 = ((-b+(b**2 - 4*a*c)**0.5)/(2*a))\n",
    "r2 = ((-b-(b**2 - 4*a*c)**0.5)/(2*a))\n",
    "print(\"The roots of {} x^2 + {} b + {} = 0 are {} and {}\". format(a,b,c,r1,r2))\n"
   ]
  },
  {
   "cell_type": "code",
   "execution_count": 21,
   "metadata": {},
   "outputs": [
    {
     "name": "stdout",
     "output_type": "stream",
     "text": [
      "Enter first variable, a = 1\n",
      "Enter second variagle, b = 2\n",
      "After swapping, the values of a and b are 2 and 1 respectively\n"
     ]
    }
   ],
   "source": [
    "# 5. Write a python program to swap two variables without temp variable\n",
    "\n",
    "a = input(\"Enter first variable, a = \")\n",
    "b = input(\"Enter second variagle, b = \")\n",
    "a, b = b, a\n",
    "print(\"After swapping, the values of a and b are {} and {} respectively\".format(a,b))"
   ]
  }
 ],
 "metadata": {
  "kernelspec": {
   "display_name": "Python 3",
   "language": "python",
   "name": "python3"
  },
  "language_info": {
   "codemirror_mode": {
    "name": "ipython",
    "version": 3
   },
   "file_extension": ".py",
   "mimetype": "text/x-python",
   "name": "python",
   "nbconvert_exporter": "python",
   "pygments_lexer": "ipython3",
   "version": "3.8.5"
  }
 },
 "nbformat": 4,
 "nbformat_minor": 4
}
