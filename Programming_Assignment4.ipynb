{
 "cells": [
  {
   "cell_type": "code",
   "execution_count": 5,
   "metadata": {},
   "outputs": [
    {
     "name": "stdout",
     "output_type": "stream",
     "text": [
      "Enter a number: 7\n",
      "5040\n"
     ]
    }
   ],
   "source": [
    "# 1. Write a python program to find a factorial of a number\n",
    "a = int(input(\"Enter a number: \"))\n",
    "f = 1\n",
    "for i in range(1,a+1):\n",
    "    f = f * i\n",
    "print(f)"
   ]
  },
  {
   "cell_type": "code",
   "execution_count": 6,
   "metadata": {},
   "outputs": [
    {
     "name": "stdout",
     "output_type": "stream",
     "text": [
      "Enter a number: 4\n",
      "4 x 1 = 4\n",
      "4 x 2 = 8\n",
      "4 x 3 = 12\n",
      "4 x 4 = 16\n",
      "4 x 5 = 20\n",
      "4 x 6 = 24\n",
      "4 x 7 = 28\n",
      "4 x 8 = 32\n",
      "4 x 9 = 36\n",
      "4 x 10 = 40\n"
     ]
    }
   ],
   "source": [
    "# 2. Write a python program to display multiplication table\n",
    "a = int(input(\"Enter a number: \"))\n",
    "for i in range(1,11):\n",
    "    print(\"{} x {} = {}\".format(a, i, a*i))"
   ]
  },
  {
   "cell_type": "code",
   "execution_count": 13,
   "metadata": {},
   "outputs": [
    {
     "name": "stdout",
     "output_type": "stream",
     "text": [
      "Enter a number: 100\n",
      "0 1 1 2 3 5 8 13 21 34 55 89 "
     ]
    }
   ],
   "source": [
    "# 3. Write a python program to print the fibonacci series\n",
    "a = int(input(\"Enter a number: \"))\n",
    "i = 0\n",
    "j = 1\n",
    "while i < a:\n",
    "    print(i, end=\" \")\n",
    "    k = i + j\n",
    "    i = j\n",
    "    j = k"
   ]
  },
  {
   "cell_type": "code",
   "execution_count": 35,
   "metadata": {},
   "outputs": [
    {
     "name": "stdout",
     "output_type": "stream",
     "text": [
      "Enter a number: 5\n",
      "5 is an Amstrong Number\n"
     ]
    }
   ],
   "source": [
    "# 4. Write a python program to check Amstrong Number.\n",
    "a = input(\"Enter a number: \")\n",
    "x = 0\n",
    "for i in range(0,len(a)):\n",
    "    x = x + int(a[i])**len(a)\n",
    "if x == int(a):\n",
    "    print(\"{} is an Amstrong Number\".format(a))\n",
    "else:\n",
    "    print(\"{} is not an Amstrong Number\".format(a))"
   ]
  },
  {
   "cell_type": "code",
   "execution_count": 44,
   "metadata": {},
   "outputs": [
    {
     "name": "stdout",
     "output_type": "stream",
     "text": [
      "Enter a number: 10000\n",
      "1 2 3 4 5 6 7 8 9 153 370 371 407 1634 8208 9474 "
     ]
    }
   ],
   "source": [
    "# 5. Write a python program to find out Amstrong Numbers in an interval.\n",
    "a = input(\"Enter a number: \")\n",
    "for i in range(1,int(a)):\n",
    "    x = 0\n",
    "    s = str(i)\n",
    "    for j in range(0,len(s)):\n",
    "        x = x + int(s[j])**len(s)\n",
    "    if x == int(i):\n",
    "        print(i, end=\" \")"
   ]
  },
  {
   "cell_type": "code",
   "execution_count": 2,
   "metadata": {},
   "outputs": [
    {
     "name": "stdout",
     "output_type": "stream",
     "text": [
      "Enter a number: 100\n",
      "Sum of natural numbers till 100 is 5050\n"
     ]
    }
   ],
   "source": [
    "# 6. Write a python program to find sum of Naturam Numbers\n",
    "a = int(input(\"Enter a number: \"))\n",
    "s = 0\n",
    "for i in range(1,a+1):\n",
    "    s = s + i\n",
    "print(\"Sum of natural numbers till {} is {}\".format(a,s))"
   ]
  }
 ],
 "metadata": {
  "kernelspec": {
   "display_name": "Python 3",
   "language": "python",
   "name": "python3"
  },
  "language_info": {
   "codemirror_mode": {
    "name": "ipython",
    "version": 3
   },
   "file_extension": ".py",
   "mimetype": "text/x-python",
   "name": "python",
   "nbconvert_exporter": "python",
   "pygments_lexer": "ipython3",
   "version": "3.8.5"
  }
 },
 "nbformat": 4,
 "nbformat_minor": 4
}
